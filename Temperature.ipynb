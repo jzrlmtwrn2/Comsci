{
 "cells": [
  {
   "cell_type": "code",
   "execution_count": 1,
   "metadata": {},
   "outputs": [],
   "source": [
    "import random"
   ]
  },
  {
   "cell_type": "code",
   "execution_count": 7,
   "metadata": {},
   "outputs": [
    {
     "name": "stdout",
     "output_type": "stream",
     "text": [
      "5\n",
      "-3 -4 -5 -6 -7 -8\n",
      "6\n"
     ]
    }
   ],
   "source": [
    "num = int(input())\n",
    "min = 0\n",
    "temperature = input().split()\n",
    "for temp in temperature:\n",
    "    if int(temp) < 0:\n",
    "        min += 1\n",
    "print (min)"
   ]
  },
  {
   "cell_type": "code",
   "execution_count": 9,
   "metadata": {},
   "outputs": [
    {
     "name": "stdout",
     "output_type": "stream",
     "text": [
      "5\n",
      "339726 -889054 -153032 -620046 -404684 Number of Negative Temperature: 4\n"
     ]
    }
   ],
   "source": [
    "num = int(input())\n",
    "min = 0\n",
    "cnt = 0\n",
    "\n",
    "while cnt < num:\n",
    "    cnt += 1\n",
    "    number = random.randrange(-1000000, 1000000)\n",
    "    print(number,end=\" \")\n",
    "    if number < 0:\n",
    "        min = min + 1\n",
    "        \n",
    "print(\"Number of Negative Temperature: \" + str(min))"
   ]
  },
  {
   "cell_type": "code",
   "execution_count": 12,
   "metadata": {},
   "outputs": [
    {
     "name": "stdout",
     "output_type": "stream",
     "text": [
      "number of temperatures collected: 14\n",
      "\n",
      "-301203 -525512 -353584 240555 634767 -72983 669552 -65663 562794 -744571 102144 -757468 60530 -800991 nNumber of Negative Temperature: 8\n"
     ]
    }
   ],
   "source": [
    "num = random.randrange(1, 100)\n",
    "print(\"number of temperatures collected: \" + str(num) + \"\\n\")\n",
    "min = 0\n",
    "cnt = 0\n",
    "\n",
    "while cnt < num:\n",
    "    cnt += 1\n",
    "    number = random.randrange(-1000000, 1000000)\n",
    "    print(number,end=\" \")\n",
    "    if number < 0:\n",
    "        min += 1\n",
    "        \n",
    "print(\"nNumber of Negative Temperature: \" + str(min))"
   ]
  },
  {
   "cell_type": "code",
   "execution_count": null,
   "metadata": {},
   "outputs": [],
   "source": []
  },
  {
   "cell_type": "code",
   "execution_count": null,
   "metadata": {},
   "outputs": [],
   "source": []
  }
 ],
 "metadata": {
  "kernelspec": {
   "display_name": "Python 3",
   "language": "python",
   "name": "python3"
  },
  "language_info": {
   "codemirror_mode": {
    "name": "ipython",
    "version": 3
   },
   "file_extension": ".py",
   "mimetype": "text/x-python",
   "name": "python",
   "nbconvert_exporter": "python",
   "pygments_lexer": "ipython3",
   "version": "3.8.5"
  }
 },
 "nbformat": 4,
 "nbformat_minor": 4
}
